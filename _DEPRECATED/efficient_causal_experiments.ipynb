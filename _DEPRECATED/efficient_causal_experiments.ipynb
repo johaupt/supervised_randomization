{
 "cells": [
  {
   "cell_type": "markdown",
   "metadata": {},
   "source": [
    "# Profit-efficient treatment assignment for causal inference"
   ]
  },
  {
   "cell_type": "code",
   "execution_count": 70,
   "metadata": {},
   "outputs": [],
   "source": [
    "import numpy as np"
   ]
  },
  {
   "cell_type": "markdown",
   "metadata": {},
   "source": [
    "# Data"
   ]
  },
  {
   "cell_type": "markdown",
   "metadata": {},
   "source": [
    "The data generating process works as follows (story just for reference):\n",
    "Revenue ($y_i$) depends on some characteristics $X_i$ of the customer i. Customers are given a coupon (treatment $g_i$) with 50% probability . Customer who receive a coupon will spend more or less money (treatment effect $\\tau_i$) depending linearly on their characteristics.\n",
    "\n",
    "$$y_i = X_i ^\\top \\beta_X + g_i \\cdot (\\tau_0 + X_i ^\\top \\beta_{\\tau} + \\epsilon^{\\tau}_i) + \\epsilon_i$$\n",
    "\n",
    "with \n",
    "\n",
    "$$\\epsilon_i \\sim \\text{Normal}(mean = 0, std = 0.1)$$\n",
    "\n",
    "$$g_i \\sim \\text{Bernoulli}(p= ? )$$\n",
    "$$\\epsilon^{\\tau}_i \\sim \\text{Normal}(mean = 0, std = 0.001)$$\n",
    "\n",
    "I think there is merit to the assumption that the true reponse model is often more complex than the model behind the heterogeneity of treatment effects. \n"
   ]
  },
  {
   "cell_type": "code",
   "execution_count": 71,
   "metadata": {},
   "outputs": [],
   "source": [
    "from scipy.stats import logistic\n",
    "\n",
    "class DataGeneratingProcess():\n",
    "    def __init__(self, n_var, mode=\"regression\", tau_zero=None):\n",
    "        self.mode = mode\n",
    "        \n",
    "        # Linear effects\n",
    "        self.beta     = np.random.normal(loc=0, scale=0.2, size=n_var)\n",
    "        # Non-linear effects (optional)\n",
    "        self.beta_X2  = np.random.normal(loc=0, scale=0.2, size=n_var)\n",
    "        # Linear effects on treatment effect\n",
    "        self.beta_tau = np.random.normal(loc=0, scale=0.2, size=n_var)\n",
    "        # Baseline treatment effect\n",
    "        self.tau_zero=tau_zero\n",
    "        if self.tau_zero is None:\n",
    "            self.tau_zero = np.random.normal(-0.1,0.01)\n",
    "            \n",
    "            \n",
    "    def experiment(self, X, g=None, prop_score=None):\n",
    "        n_obs=X.shape[0]\n",
    "        if g is None:\n",
    "            g = np.zeros(n_obs)\n",
    "        \n",
    "        tau = self.tau_zero + np.dot(X,self.beta_tau) + np.random.normal(scale=0.001, size=n_obs)\n",
    "        \n",
    "        y = (np.dot(X,self.beta) +\n",
    "#             np.dot(np.power(X,2),self.beta_X2) +\n",
    "             g * tau + np.random.normal(scale=0.1, size=n_obs))\n",
    "        \n",
    "        if self.mode == \"classification\":\n",
    "            #y = np.random.binomial(1, p=logistic.cdf(y))\n",
    "            y = (logistic.cdf(y)>0.5)*1\n",
    "                \n",
    "        return X,y,g,tau, prop_score\n",
    "        \n",
    "    "
   ]
  },
  {
   "cell_type": "code",
   "execution_count": 72,
   "metadata": {},
   "outputs": [],
   "source": [
    "N_OBS = 100000\n",
    "N_VAR = 10\n",
    "\n",
    "dgp = DataGeneratingProcess(10, mode=\"classification\")\n",
    "\n",
    "X = np.random.multivariate_normal(\n",
    "         np.zeros(N_VAR),\n",
    "         np.eye(N_VAR)*1,\n",
    "         N_OBS\n",
    "         )"
   ]
  },
  {
   "cell_type": "code",
   "execution_count": 73,
   "metadata": {},
   "outputs": [],
   "source": [
    "experiment = {}\n",
    "experiment[\"none_treated\"] = dgp.experiment(X)\n",
    "experiment[\"all_treated\"] = dgp.experiment(X, np.ones(N_OBS))\n",
    "experiment[\"balanced\"] = dgp.experiment(X, g=np.random.binomial(1, p=0.5, size = N_OBS))"
   ]
  },
  {
   "cell_type": "markdown",
   "metadata": {},
   "source": [
    "We typically want to be conservative and try new treatment only on a small subset of the population."
   ]
  },
  {
   "cell_type": "code",
   "execution_count": 74,
   "metadata": {},
   "outputs": [],
   "source": [
    "experiment[\"imbalanced\"] = dgp.experiment(X, g=np.random.binomial(1, p=0.2, size = N_OBS))"
   ]
  },
  {
   "cell_type": "markdown",
   "metadata": {},
   "source": [
    "Many companies have a human or model-based decision system in place to assign treatment a subgroup of observations. For example, in the churn setting, a model would assign marketing treatment to customer who are likely to churn (i.e. p_churn above a threshold). \n",
    "\n",
    "We can keep existing infrastructure that has proven effective, but add a random component by assigning treatment non-deterministically. In practice, we could assign the marketing treatment relative to the probability of churn."
   ]
  },
  {
   "cell_type": "code",
   "execution_count": 75,
   "metadata": {},
   "outputs": [
    {
     "name": "stdout",
     "output_type": "stream",
     "text": [
      "0.9871185059951937\n"
     ]
    }
   ],
   "source": [
    "from sklearn.linear_model import LogisticRegression\n",
    "from sklearn.metrics import roc_auc_score\n",
    "\n",
    "response_model = LogisticRegression(C=100, solver='lbfgs')\n",
    "\n",
    "response_model.fit(X=X, y=experiment[\"none_treated\"][1])\n",
    "treat_prob = response_model.predict_proba(X)[:,1]\n",
    "print(roc_auc_score(experiment[\"none_treated\"][1], treat_prob))"
   ]
  },
  {
   "cell_type": "code",
   "execution_count": 76,
   "metadata": {},
   "outputs": [],
   "source": [
    "treat_prob = treat_prob.clip(0.1,0.9)\n",
    "experiment['individual'] = dgp.experiment(X, g=np.random.binomial(1, p=treat_prob))"
   ]
  },
  {
   "cell_type": "markdown",
   "metadata": {},
   "source": [
    "## Experiment Evaluation"
   ]
  },
  {
   "cell_type": "markdown",
   "metadata": {},
   "source": [
    "And what are the ratios of people treated?"
   ]
  },
  {
   "cell_type": "code",
   "execution_count": 77,
   "metadata": {},
   "outputs": [
    {
     "name": "stdout",
     "output_type": "stream",
     "text": [
      "none_treated 0.0\n",
      "all_treated 1.0\n",
      "balanced 0.49721\n",
      "imbalanced 0.19882\n",
      "individual 0.50229\n"
     ]
    }
   ],
   "source": [
    "for name, setting in experiment.items():\n",
    "    print(name, setting[2].mean())"
   ]
  },
  {
   "cell_type": "markdown",
   "metadata": {},
   "source": [
    "What's the churn rate per treatment schedule? (Lower is better)"
   ]
  },
  {
   "cell_type": "markdown",
   "metadata": {},
   "source": [
    "TODO: Churn rate should be 10%"
   ]
  },
  {
   "cell_type": "code",
   "execution_count": 78,
   "metadata": {},
   "outputs": [
    {
     "name": "stdout",
     "output_type": "stream",
     "text": [
      "none_treated 0.50295\n",
      "all_treated 0.46736\n",
      "balanced 0.48583\n",
      "imbalanced 0.49562\n",
      "individual 0.409\n"
     ]
    }
   ],
   "source": [
    "for name, setting in experiment.items():\n",
    "    print(name, setting[1].mean())"
   ]
  },
  {
   "cell_type": "markdown",
   "metadata": {},
   "source": [
    "What's our total cost for each experiment? The cost is linked to the churn rate in each experiment and the cost of our targeting. Let's assume a churner has a constant CLV of 100, marketing treatment costs 10. "
   ]
  },
  {
   "cell_type": "code",
   "execution_count": 92,
   "metadata": {},
   "outputs": [
    {
     "name": "stdout",
     "output_type": "stream",
     "text": [
      "Cost, lower is better\n",
      "\n",
      "none_treated 5029500.0\n",
      "all_treated 5673600.0\n",
      "balanced 5355510\n",
      "imbalanced 5155020\n",
      "individual 4592290\n"
     ]
    }
   ],
   "source": [
    "print(\"Cost, lower is better\\n\")\n",
    "for name, setting in experiment.items():\n",
    "    print(name, (setting[1]*100 + setting[2]*10).sum())"
   ]
  },
  {
   "cell_type": "markdown",
   "metadata": {},
   "source": [
    "## ATE estimation under controlled biased experiment"
   ]
  },
  {
   "cell_type": "markdown",
   "metadata": {},
   "source": [
    "We haved saved money by assigning treatment to likely churners. But our data does not adhere to the assumptions of the balanced randomized trial anymore. Since we know the true propensity scores, we can control for the biased sampling using inverse probability weighting!\n",
    "\n",
    "TODO: Add ATE formula"
   ]
  },
  {
   "cell_type": "code",
   "execution_count": 80,
   "metadata": {},
   "outputs": [],
   "source": [
    "def calc_ATE(y,g,prop_score=None):\n",
    "    if prop_score is None:    \n",
    "        prop_score = np.ones(len(y))*0.5\n",
    "    return ((y*g/prop_score).sum() - (y*(1-g)/(1-prop_score)).sum())/len(y)"
   ]
  },
  {
   "cell_type": "code",
   "execution_count": 85,
   "metadata": {},
   "outputs": [
    {
     "data": {
      "text/plain": [
       "-0.03559000000000001"
      ]
     },
     "execution_count": 85,
     "metadata": {},
     "output_type": "execute_result"
    }
   ],
   "source": [
    "experiment[\"all_treated\"][1].mean() - experiment[\"none_treated\"][1].mean()"
   ]
  },
  {
   "cell_type": "code",
   "execution_count": 86,
   "metadata": {},
   "outputs": [
    {
     "data": {
      "text/plain": [
       "-0.04146"
      ]
     },
     "execution_count": 86,
     "metadata": {},
     "output_type": "execute_result"
    }
   ],
   "source": [
    "calc_ATE(experiment[\"balanced\"][1], experiment[\"balanced\"][2])"
   ]
  },
  {
   "cell_type": "code",
   "execution_count": 87,
   "metadata": {},
   "outputs": [
    {
     "data": {
      "text/plain": [
       "-0.03615"
      ]
     },
     "execution_count": 87,
     "metadata": {},
     "output_type": "execute_result"
    }
   ],
   "source": [
    "prop_score = np.ones(X.shape[0]) * 0.2\n",
    "calc_ATE(experiment[\"imbalanced\"][1], experiment[\"imbalanced\"][2], prop_score)"
   ]
  },
  {
   "cell_type": "code",
   "execution_count": 88,
   "metadata": {},
   "outputs": [
    {
     "data": {
      "text/plain": [
       "-0.037714199971999186"
      ]
     },
     "execution_count": 88,
     "metadata": {},
     "output_type": "execute_result"
    }
   ],
   "source": [
    "calc_ATE(experiment[\"individual\"][1], experiment[\"individual\"][2], treat_prob)"
   ]
  },
  {
   "cell_type": "markdown",
   "metadata": {},
   "source": [
    "## Repeated experiments"
   ]
  },
  {
   "cell_type": "code",
   "execution_count": 48,
   "metadata": {},
   "outputs": [],
   "source": [
    "ATE = {\"balanced\":[],\"imbalanced\":[],\"individual\":[]}\n",
    "\n",
    "experiment = {}\n",
    "experiment[\"none_treated\"] = dgp.experiment(X)\n",
    "experiment[\"all_treated\"] = dgp.experiment(X, np.ones(N_OBS))\n",
    "\n",
    "ATE_true = experiment[\"all_treated\"][1].mean() - experiment[\"none_treated\"][1].mean()\n",
    "\n",
    "response_model = LogisticRegression(C=100, solver='lbfgs')\n",
    "response_model.fit(X=X, y=experiment[\"none_treated\"][1])\n",
    "treat_prob = response_model.predict_proba(X)[:,1]\n",
    "\n",
    "treat_prob = treat_prob.clip(0.1,0.9)\n",
    "\n",
    "for _ in range(500):\n",
    "    experiment[\"balanced\"] = dgp.experiment(X, g=np.random.binomial(1, p=0.5, size = N_OBS))\n",
    "    ATE[\"balanced\"].append(calc_ATE(experiment[\"balanced\"][1], experiment[\"balanced\"][2]))\n",
    " \n",
    "    experiment[\"imbalanced\"] = dgp.experiment(X, g=np.random.binomial(1, p=0.2, size = N_OBS))\n",
    "    prop_score = np.ones(X.shape[0]) * 0.2\n",
    "    ATE[\"imbalanced\"].append(calc_ATE(experiment[\"imbalanced\"][1], experiment[\"imbalanced\"][2], prop_score))\n",
    "    \n",
    "\n",
    "    experiment['individual'] = dgp.experiment(X, g=np.random.binomial(1, p=treat_prob))\n",
    "    ATE[\"individual\"].append(calc_ATE(experiment[\"individual\"][1], experiment[\"individual\"][2], treat_prob))\n",
    "\n"
   ]
  },
  {
   "cell_type": "code",
   "execution_count": 49,
   "metadata": {},
   "outputs": [
    {
     "name": "stdout",
     "output_type": "stream",
     "text": [
      "-0.059380000000000044\n"
     ]
    },
    {
     "data": {
      "text/plain": [
       "{'balanced': -0.058875519999999994,\n",
       " 'imbalanced': -0.058537075,\n",
       " 'individual': -0.058568877064268283}"
      ]
     },
     "execution_count": 49,
     "metadata": {},
     "output_type": "execute_result"
    }
   ],
   "source": [
    "print(ATE_true)\n",
    "{key:np.mean(x) for key,x in ATE.items()}"
   ]
  },
  {
   "cell_type": "code",
   "execution_count": 50,
   "metadata": {},
   "outputs": [],
   "source": [
    "import matplotlib.pyplot as plt\n",
    "import seaborn as sns"
   ]
  },
  {
   "cell_type": "code",
   "execution_count": 51,
   "metadata": {},
   "outputs": [
    {
     "name": "stderr",
     "output_type": "stream",
     "text": [
      "/Users/hauptjoh/anaconda/envs/deeplearning/lib/python3.6/site-packages/scipy/stats/stats.py:1713: FutureWarning: Using a non-tuple sequence for multidimensional indexing is deprecated; use `arr[tuple(seq)]` instead of `arr[seq]`. In the future this will be interpreted as an array index, `arr[np.array(seq)]`, which will result either in an error or a different result.\n",
      "  return np.add.reduce(sorted[indexer] * weights, axis=axis) / sumval\n"
     ]
    },
    {
     "data": {
      "image/png": "[encoded data removed]",
      "text/plain": [
       "<Figure size 432x288 with 1 Axes>"
      ]
     },
     "metadata": {
      "needs_background": "light"
     },
     "output_type": "display_data"
    },
    {
     "data": {
      "image/png": "[encoded data removed]",
      "text/plain": [
       "<Figure size 432x288 with 1 Axes>"
      ]
     },
     "metadata": {
      "needs_background": "light"
     },
     "output_type": "display_data"
    },
    {
     "data": {
      "image/png": "[encoded data removed]",
      "text/plain": [
       "<Figure size 432x288 with 1 Axes>"
      ]
     },
     "metadata": {
      "needs_background": "light"
     },
     "output_type": "display_data"
    }
   ],
   "source": [
    "for key,ate in ATE.items():\n",
    "    sns.kdeplot(ate)\n",
    "    plt.xlim(ATE_true-0.02,ATE_true+0.02)\n",
    "    plt.axvline(x=ATE_true, color=\"red\")\n",
    "    plt.title(key)\n",
    "    plt.show()"
   ]
  },
  {
   "cell_type": "markdown",
   "metadata": {},
   "source": [
    "## Individual treatment effect estimation"
   ]
  },
  {
   "cell_type": "markdown",
   "metadata": {},
   "source": [
    "For evaluation in the simulation context, I assume that the treatment effects are known and calculate the accuracy on the model in estimating the treatment effects on a holdout validation set. In practice, the true treatment effects are unknown, of course, so holdout evaluation is an open question."
   ]
  },
  {
   "cell_type": "code",
   "execution_count": 307,
   "metadata": {},
   "outputs": [],
   "source": [
    "#from sklearn.linear_model import SGDClassifier\n",
    "#from sklearn.metrics import mean_absolute_error\n",
    "#model = SGDClassifier(loss='log', max_iter=1000, tol=1e-3, penalty=\"none\")\n",
    "\n",
    "#modlib = {key:model.fit(X,y, sample_weight=prop) for key, (X,y,w,g,prop) in experiment.items()}\n",
    "#MAE = {key:mean_absolute_error(mo) for key, model in modlib.items()}"
   ]
  },
  {
   "cell_type": "markdown",
   "metadata": {},
   "source": [
    "## Old Code below"
   ]
  },
  {
   "cell_type": "code",
   "execution_count": 267,
   "metadata": {},
   "outputs": [
    {
     "ename": "NameError",
     "evalue": "name 'y' is not defined",
     "output_type": "error",
     "traceback": [
      "\u001b[0;31m---------------------------------------------------------------------------\u001b[0m",
      "\u001b[0;31mNameError\u001b[0m                                 Traceback (most recent call last)",
      "\u001b[0;32m<ipython-input-267-6535209dcb2f>\u001b[0m in \u001b[0;36m<module>\u001b[0;34m\u001b[0m\n\u001b[0;32m----> 1\u001b[0;31m \u001b[0mnp\u001b[0m\u001b[0;34m.\u001b[0m\u001b[0mmean\u001b[0m\u001b[0;34m(\u001b[0m\u001b[0my\u001b[0m\u001b[0;34m)\u001b[0m\u001b[0;34m,\u001b[0m \u001b[0mnp\u001b[0m\u001b[0;34m.\u001b[0m\u001b[0mstd\u001b[0m\u001b[0;34m(\u001b[0m\u001b[0my\u001b[0m\u001b[0;34m)\u001b[0m\u001b[0;34m\u001b[0m\u001b[0;34m\u001b[0m\u001b[0m\n\u001b[0m",
      "\u001b[0;31mNameError\u001b[0m: name 'y' is not defined"
     ]
    }
   ],
   "source": [
    "np.mean(y), np.std(y)"
   ]
  },
  {
   "cell_type": "markdown",
   "metadata": {},
   "source": [
    "ATE summary statistics. These should be stable to confirm that the info-noise ratio in the data is not too high."
   ]
  },
  {
   "cell_type": "code",
   "execution_count": 228,
   "metadata": {},
   "outputs": [
    {
     "name": "stdout",
     "output_type": "stream",
     "text": [
      "Baseline treatment effect (True ATE):-0.11581118586682598\n",
      "Sample treatment effect (ITE Mean, ITE Std.): (0.10564810264497133, 0.273717858076607)\n",
      "Empirical ATE: nan\n"
     ]
    },
    {
     "name": "stderr",
     "output_type": "stream",
     "text": [
      "/Users/hauptjoh/anaconda/envs/deeplearning/lib/python3.6/site-packages/numpy/core/fromnumeric.py:2920: RuntimeWarning: Mean of empty slice.\n",
      "  out=out, **kwargs)\n",
      "/Users/hauptjoh/anaconda/envs/deeplearning/lib/python3.6/site-packages/numpy/core/_methods.py:85: RuntimeWarning: invalid value encountered in double_scalars\n",
      "  ret = ret.dtype.type(ret / rcount)\n"
     ]
    }
   ],
   "source": [
    "# True ATE and standard deviation of individual treatment effects\n",
    "print(f\"Baseline treatment effect (True ATE):{dgp.tau_zero}\")\n",
    "print(f\"Sample treatment effect (ITE Mean, ITE Std.): {np.mean(tau), np.std(tau)}\")\n",
    "print(f\"Empirical ATE: {np.mean(y[g==1]) - np.mean(y[g==0])}\")"
   ]
  },
  {
   "cell_type": "code",
   "execution_count": 11,
   "metadata": {},
   "outputs": [
    {
     "name": "stdout",
     "output_type": "stream",
     "text": [
      "Baseline MSE for treatment effect prediction on validation data:      0.12391618297544664\n"
     ]
    }
   ],
   "source": [
    "print(f\"Baseline MSE for treatment effect prediction on validation data:\\\n",
    "      {np.mean((tau_val - (np.mean(y[g==1]) - np.mean(y[g==0])))**2)}\")"
   ]
  },
  {
   "cell_type": "code",
   "execution_count": 12,
   "metadata": {},
   "outputs": [],
   "source": [
    "data = ExperimentData(X,y,g)"
   ]
  },
  {
   "cell_type": "markdown",
   "metadata": {},
   "source": [
    "## Setup"
   ]
  },
  {
   "cell_type": "code",
   "execution_count": 13,
   "metadata": {},
   "outputs": [],
   "source": [
    "pred = OrderedDict()\n",
    "pred_val = OrderedDict()"
   ]
  },
  {
   "cell_type": "code",
   "execution_count": 14,
   "metadata": {},
   "outputs": [],
   "source": [
    "pred[\"ATE\"] = (y[g==1].mean()-y[g==0].mean()) * np.ones([X.shape[0]])\n",
    "pred_val[\"ATE\"] = y[g==1].mean()-y[g==0].mean() * np.ones([X_val.shape[0]])"
   ]
  },
  {
   "cell_type": "markdown",
   "metadata": {},
   "source": [
    "## Summary"
   ]
  },
  {
   "cell_type": "code",
   "execution_count": 57,
   "metadata": {},
   "outputs": [
    {
     "data": {
      "text/plain": [
       "0.10380047919005067"
      ]
     },
     "execution_count": 57,
     "metadata": {},
     "output_type": "execute_result"
    }
   ],
   "source": [
    "tau_zero"
   ]
  },
  {
   "cell_type": "code",
   "execution_count": 58,
   "metadata": {},
   "outputs": [
    {
     "data": {
      "text/plain": [
       "0.10548894867393199"
      ]
     },
     "execution_count": 58,
     "metadata": {},
     "output_type": "execute_result"
    }
   ],
   "source": [
    "y[g==1].mean() - y[g==0].mean()"
   ]
  },
  {
   "cell_type": "code",
   "execution_count": 59,
   "metadata": {},
   "outputs": [
    {
     "data": {
      "text/plain": [
       "{'ATE': 0.105488948673932,\n",
       " 'tnet': 0.11168234,\n",
       " 'batch_cnn': 0.111191034,\n",
       " 'res_cnn': 0.11248301}"
      ]
     },
     "execution_count": 59,
     "metadata": {},
     "output_type": "execute_result"
    }
   ],
   "source": [
    "{key:x.mean() for key,x in pred.items()}"
   ]
  },
  {
   "cell_type": "markdown",
   "metadata": {},
   "source": [
    "Absolute error against true (unknown) treatment effects (Lower is better)"
   ]
  },
  {
   "cell_type": "code",
   "execution_count": 60,
   "metadata": {},
   "outputs": [
    {
     "data": {
      "text/plain": [
       "{'ATE': 0.2798043699350534,\n",
       " 'tnet': 0.4054825585269063,\n",
       " 'batch_cnn': 0.462945421836178,\n",
       " 'res_cnn': 0.4068920708844783}"
      ]
     },
     "execution_count": 60,
     "metadata": {},
     "output_type": "execute_result"
    }
   ],
   "source": [
    "{key:np.abs(x-tau_val).mean() for key,x in pred_val.items()}"
   ]
  },
  {
   "cell_type": "markdown",
   "metadata": {},
   "source": [
    "Ranking metrics for continuous variables ([-1;1], higher is better)"
   ]
  },
  {
   "cell_type": "code",
   "execution_count": 61,
   "metadata": {},
   "outputs": [
    {
     "data": {
      "text/plain": [
       "{'ATE': nan,\n",
       " 'tnet': 0.8595502200880353,\n",
       " 'batch_cnn': 0.487946218487395,\n",
       " 'res_cnn': 0.8574994797919169}"
      ]
     },
     "execution_count": 61,
     "metadata": {},
     "output_type": "execute_result"
    }
   ],
   "source": [
    "# Weighted number of rank mistakes\n",
    "from scipy.stats import spearmanr, kendalltau\n",
    "{key:kendalltau(tau_val, x, nan_policy='propagate')[0] for key,x in pred_val.items()}"
   ]
  },
  {
   "cell_type": "code",
   "execution_count": 62,
   "metadata": {},
   "outputs": [
    {
     "name": "stderr",
     "output_type": "stream",
     "text": [
      "/Users/hauptjoh/anaconda/envs/deeplearning/lib/python3.6/site-packages/numpy/lib/function_base.py:2400: RuntimeWarning: invalid value encountered in true_divide\n",
      "  c /= stddev[:, None]\n",
      "/Users/hauptjoh/anaconda/envs/deeplearning/lib/python3.6/site-packages/numpy/lib/function_base.py:2401: RuntimeWarning: invalid value encountered in true_divide\n",
      "  c /= stddev[None, :]\n",
      "/Users/hauptjoh/anaconda/envs/deeplearning/lib/python3.6/site-packages/scipy/stats/_distn_infrastructure.py:879: RuntimeWarning: invalid value encountered in greater\n",
      "  return (self.a < x) & (x < self.b)\n",
      "/Users/hauptjoh/anaconda/envs/deeplearning/lib/python3.6/site-packages/scipy/stats/_distn_infrastructure.py:879: RuntimeWarning: invalid value encountered in less\n",
      "  return (self.a < x) & (x < self.b)\n",
      "/Users/hauptjoh/anaconda/envs/deeplearning/lib/python3.6/site-packages/scipy/stats/_distn_infrastructure.py:1821: RuntimeWarning: invalid value encountered in less_equal\n",
      "  cond2 = cond0 & (x <= self.a)\n"
     ]
    },
    {
     "data": {
      "text/plain": [
       "{'ATE': nan,\n",
       " 'tnet': 0.9730393887103023,\n",
       " 'batch_cnn': 0.6763422427427589,\n",
       " 'res_cnn': 0.9722625258660043}"
      ]
     },
     "execution_count": 62,
     "metadata": {},
     "output_type": "execute_result"
    }
   ],
   "source": [
    "{key:spearmanr(tau_val, x, nan_policy='propagate')[0] for key,x in pred_val.items()}"
   ]
  },
  {
   "cell_type": "code",
   "execution_count": 63,
   "metadata": {},
   "outputs": [],
   "source": [
    "#from pylift.eval import UpliftEval\n",
    "#{key:UpliftEval(g_val,y_val,x) for key,x in pred_val.items()}"
   ]
  },
  {
   "cell_type": "code",
   "execution_count": 70,
   "metadata": {},
   "outputs": [
    {
     "data": {
      "image/png": "[encoded data removed]",
      "text/plain": [
       "<Figure size 432x288 with 1 Axes>"
      ]
     },
     "metadata": {
      "needs_background": "light"
     },
     "output_type": "display_data"
    },
    {
     "data": {
      "image/png": "[encoded data removed]",
      "text/plain": [
       "<Figure size 432x288 with 1 Axes>"
      ]
     },
     "metadata": {
      "needs_background": "light"
     },
     "output_type": "display_data"
    },
    {
     "data": {
      "image/png": "[encoded data removed]",
      "text/plain": [
       "<Figure size 432x288 with 1 Axes>"
      ]
     },
     "metadata": {
      "needs_background": "light"
     },
     "output_type": "display_data"
    },
    {
     "data": {
      "image/png": "[encoded data removed]",
      "text/plain": [
       "<Figure size 432x288 with 1 Axes>"
      ]
     },
     "metadata": {
      "needs_background": "light"
     },
     "output_type": "display_data"
    }
   ],
   "source": [
    "for i,x in pred_val.items():\n",
    "    plt.hist(tau_val, color='black', alpha=0.5, range=[-2,2], bins=20)\n",
    "    plt.hist(x, alpha=0.5, bins=20)\n",
    "    plt.title(i)\n",
    "    plt.show()\n"
   ]
  },
  {
   "cell_type": "code",
   "execution_count": null,
   "metadata": {},
   "outputs": [],
   "source": []
  }
 ],
 "metadata": {
  "kernelspec": {
   "display_name": "Python [deeplearning]",
   "language": "python",
   "name": "Python [deeplearning]"
  },
  "language_info": {
   "codemirror_mode": {
    "name": "ipython",
    "version": 3
   },
   "file_extension": ".py",
   "mimetype": "text/x-python",
   "name": "python",
   "nbconvert_exporter": "python",
   "pygments_lexer": "ipython3",
   "version": "3.6.7"
  }
 },
 "nbformat": 4,
 "nbformat_minor": 2
}
